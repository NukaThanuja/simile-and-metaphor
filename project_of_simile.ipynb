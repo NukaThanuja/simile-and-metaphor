{
 "cells": [
  {
   "cell_type": "code",
   "execution_count": 1,
   "metadata": {
    "id": "NwZ5vdMdRbjV"
   },
   "outputs": [],
   "source": [
    "import pandas as pd\n",
    "from sklearn.model_selection import train_test_split\n",
    "from sklearn.feature_extraction.text import TfidfVectorizer\n",
    "from sklearn.linear_model import LogisticRegression\n",
    "from sklearn.metrics import classification_report, accuracy_score\n",
    "from sklearn.preprocessing import LabelEncoder\n",
    "import matplotlib.pyplot as plt\n",
    "import seaborn as sns\n",
    "from tensorflow.keras.models import Sequential\n",
    "from tensorflow.keras.layers import Dense, Dropout\n",
    "from tensorflow.keras.optimizers import Adam"
   ]
  },
  {
   "cell_type": "code",
   "execution_count": 2,
   "metadata": {
    "id": "fr-kW3nZSb6_"
   },
   "outputs": [],
   "source": [
    "df=pd.read_csv(r'C:\\Users\\Thanuja\\Desktop\\Data.csv')"
   ]
  },
  {
   "cell_type": "code",
   "execution_count": 3,
   "metadata": {
    "colab": {
     "base_uri": "https://localhost:8080/",
     "height": 423
    },
    "id": "GCqvaJDTSprS",
    "outputId": "17cc791f-23d7-4fe4-cee7-2246b4625cb0"
   },
   "outputs": [
    {
     "data": {
      "text/html": [
       "<div>\n",
       "<style scoped>\n",
       "    .dataframe tbody tr th:only-of-type {\n",
       "        vertical-align: middle;\n",
       "    }\n",
       "\n",
       "    .dataframe tbody tr th {\n",
       "        vertical-align: top;\n",
       "    }\n",
       "\n",
       "    .dataframe thead th {\n",
       "        text-align: right;\n",
       "    }\n",
       "</style>\n",
       "<table border=\"1\" class=\"dataframe\">\n",
       "  <thead>\n",
       "    <tr style=\"text-align: right;\">\n",
       "      <th></th>\n",
       "      <th>Id</th>\n",
       "      <th>Sentence</th>\n",
       "      <th>Target</th>\n",
       "    </tr>\n",
       "  </thead>\n",
       "  <tbody>\n",
       "    <tr>\n",
       "      <th>0</th>\n",
       "      <td>1</td>\n",
       "      <td>The classroom was a zoo.</td>\n",
       "      <td>Metaphor</td>\n",
       "    </tr>\n",
       "    <tr>\n",
       "      <th>1</th>\n",
       "      <td>2</td>\n",
       "      <td>The stars were diamonds in the sky.</td>\n",
       "      <td>Metaphor</td>\n",
       "    </tr>\n",
       "    <tr>\n",
       "      <th>2</th>\n",
       "      <td>3</td>\n",
       "      <td>Time is a thief that steals our moments.</td>\n",
       "      <td>Metaphor</td>\n",
       "    </tr>\n",
       "    <tr>\n",
       "      <th>3</th>\n",
       "      <td>4</td>\n",
       "      <td>Life is a journey with many paths.</td>\n",
       "      <td>Metaphor</td>\n",
       "    </tr>\n",
       "    <tr>\n",
       "      <th>4</th>\n",
       "      <td>5</td>\n",
       "      <td>Her mind was a maze of thoughts.</td>\n",
       "      <td>Metaphor</td>\n",
       "    </tr>\n",
       "    <tr>\n",
       "      <th>...</th>\n",
       "      <td>...</td>\n",
       "      <td>...</td>\n",
       "      <td>...</td>\n",
       "    </tr>\n",
       "    <tr>\n",
       "      <th>386</th>\n",
       "      <td>387</td>\n",
       "      <td>Her eyes were as wide as saucers.</td>\n",
       "      <td>Simile</td>\n",
       "    </tr>\n",
       "    <tr>\n",
       "      <th>387</th>\n",
       "      <td>388</td>\n",
       "      <td>The tree was as tall as a skyscraper.</td>\n",
       "      <td>Simile</td>\n",
       "    </tr>\n",
       "    <tr>\n",
       "      <th>388</th>\n",
       "      <td>389</td>\n",
       "      <td>The car was as fast as lightning.</td>\n",
       "      <td>Simile</td>\n",
       "    </tr>\n",
       "    <tr>\n",
       "      <th>389</th>\n",
       "      <td>390</td>\n",
       "      <td>The sun was as bright as gold.</td>\n",
       "      <td>Simile</td>\n",
       "    </tr>\n",
       "    <tr>\n",
       "      <th>390</th>\n",
       "      <td>391</td>\n",
       "      <td>The dog was as playful as a puppy.</td>\n",
       "      <td>Simile</td>\n",
       "    </tr>\n",
       "  </tbody>\n",
       "</table>\n",
       "<p>391 rows × 3 columns</p>\n",
       "</div>"
      ],
      "text/plain": [
       "      Id                                  Sentence    Target\n",
       "0      1                  The classroom was a zoo.  Metaphor\n",
       "1      2       The stars were diamonds in the sky.  Metaphor\n",
       "2      3  Time is a thief that steals our moments.  Metaphor\n",
       "3      4        Life is a journey with many paths.  Metaphor\n",
       "4      5          Her mind was a maze of thoughts.  Metaphor\n",
       "..   ...                                       ...       ...\n",
       "386  387         Her eyes were as wide as saucers.    Simile\n",
       "387  388     The tree was as tall as a skyscraper.    Simile\n",
       "388  389         The car was as fast as lightning.    Simile\n",
       "389  390            The sun was as bright as gold.    Simile\n",
       "390  391        The dog was as playful as a puppy.    Simile\n",
       "\n",
       "[391 rows x 3 columns]"
      ]
     },
     "execution_count": 3,
     "metadata": {},
     "output_type": "execute_result"
    }
   ],
   "source": [
    "df"
   ]
  },
  {
   "cell_type": "code",
   "execution_count": 4,
   "metadata": {
    "colab": {
     "base_uri": "https://localhost:8080/"
    },
    "id": "W0EoByrVSt4I",
    "outputId": "abf2241c-11d7-4318-8829-0a46d65f14fa"
   },
   "outputs": [
    {
     "data": {
      "text/plain": [
       "(391, 3)"
      ]
     },
     "execution_count": 4,
     "metadata": {},
     "output_type": "execute_result"
    }
   ],
   "source": [
    "df.shape"
   ]
  },
  {
   "cell_type": "code",
   "execution_count": 5,
   "metadata": {
    "colab": {
     "base_uri": "https://localhost:8080/"
    },
    "id": "1P5NtcgwSwz4",
    "outputId": "7c51ed86-cb72-4d7e-88ff-b9cda2e227e2"
   },
   "outputs": [
    {
     "name": "stdout",
     "output_type": "stream",
     "text": [
      "<class 'pandas.core.frame.DataFrame'>\n",
      "RangeIndex: 391 entries, 0 to 390\n",
      "Data columns (total 3 columns):\n",
      " #   Column    Non-Null Count  Dtype \n",
      "---  ------    --------------  ----- \n",
      " 0   Id        391 non-null    int64 \n",
      " 1   Sentence  391 non-null    object\n",
      " 2   Target    391 non-null    object\n",
      "dtypes: int64(1), object(2)\n",
      "memory usage: 9.3+ KB\n"
     ]
    }
   ],
   "source": [
    "df.info()"
   ]
  },
  {
   "cell_type": "code",
   "execution_count": 6,
   "metadata": {
    "colab": {
     "base_uri": "https://localhost:8080/",
     "height": 178
    },
    "id": "SP4U5XPyS0cs",
    "outputId": "6e6b7f7b-aabc-4f0b-e342-c1e865ea60f9"
   },
   "outputs": [
    {
     "data": {
      "text/plain": [
       "Id          0\n",
       "Sentence    0\n",
       "Target      0\n",
       "dtype: int64"
      ]
     },
     "execution_count": 6,
     "metadata": {},
     "output_type": "execute_result"
    }
   ],
   "source": [
    "df.isnull().sum()"
   ]
  },
  {
   "cell_type": "code",
   "execution_count": 7,
   "metadata": {
    "id": "yQX3kANFS9IY"
   },
   "outputs": [],
   "source": [
    "X = df['Sentence']\n",
    "y = df['Target']\n",
    "\n",
    "label_encoder = LabelEncoder()\n",
    "y_encoded = label_encoder.fit_transform(y)"
   ]
  },
  {
   "cell_type": "code",
   "execution_count": 8,
   "metadata": {
    "colab": {
     "base_uri": "https://localhost:8080/",
     "height": 472
    },
    "id": "-6K8yYfJTJDM",
    "outputId": "00936537-e754-44d7-a81b-87dfb4a78a8b"
   },
   "outputs": [
    {
     "data": {
      "image/png": "[encoded data removed]",
      "text/plain": [
       "<Figure size 640x480 with 1 Axes>"
      ]
     },
     "metadata": {},
     "output_type": "display_data"
    }
   ],
   "source": [
    "sns.countplot(x='Target',data=df)\n",
    "plt.title('Target Distribution')\n",
    "plt.show()\n"
   ]
  },
  {
   "cell_type": "markdown",
   "metadata": {
    "id": "f3Jas-1nTwCq"
   },
   "source": [
    "Bivariate Analysis\n"
   ]
  },
  {
   "cell_type": "code",
   "execution_count": 9,
   "metadata": {
    "colab": {
     "base_uri": "https://localhost:8080/",
     "height": 564
    },
    "id": "2mYmNdRFTgHV",
    "outputId": "f1c7d826-936e-4226-d90f-eb331ed57e88"
   },
   "outputs": [
    {
     "data": {
      "image/png": "[encoded data removed]",
      "text/plain": [
       "<Figure size 1000x600 with 1 Axes>"
      ]
     },
     "metadata": {},
     "output_type": "display_data"
    }
   ],
   "source": [
    "df['sentence_length'] = df['Sentence'].apply(len)\n",
    "plt.figure(figsize=(10,6))\n",
    "sns.histplot(df,x='sentence_length' , hue='Target' , kde=True)\n",
    "plt.title('Sentence Length distribution by Target')\n",
    "plt.xlabel('Sentence Length')\n",
    "plt.ylabel('Frequency')\n",
    "plt.show()"
   ]
  },
  {
   "cell_type": "code",
   "execution_count": 10,
   "metadata": {
    "colab": {
     "base_uri": "https://localhost:8080/",
     "height": 728
    },
    "id": "_F5rAqOST1qB",
    "outputId": "06abf707-58b7-420f-d7b8-340b9b9b3ed5"
   },
   "outputs": [
    {
     "name": "stderr",
     "output_type": "stream",
     "text": [
      "C:\\Users\\Thanuja\\AppData\\Local\\Temp\\ipykernel_30524\\1595075779.py:23: FutureWarning: \n",
      "\n",
      "Passing `palette` without assigning `hue` is deprecated and will be removed in v0.14.0. Assign the `y` variable to `hue` and set `legend=False` for the same effect.\n",
      "\n",
      "  sns.barplot(y='feature', x='importance', data=top_positive_features.head(20), palette='viridis')\n"
     ]
    },
    {
     "data": {
      "image/png": "[encoded data removed]",
      "text/plain": [
       "<Figure size 1400x700 with 1 Axes>"
      ]
     },
     "metadata": {},
     "output_type": "display_data"
    }
   ],
   "source": [
    "from sklearn.ensemble import RandomForestClassifier\n",
    "vectorizer = TfidfVectorizer()\n",
    "sentence_tfidf = vectorizer.fit_transform(X.astype(str)).toarray()\n",
    "\n",
    "# Create DataFrame for TF-IDF features\n",
    "tfidf_df = pd.DataFrame(sentence_tfidf, columns=vectorizer.get_feature_names_out())\n",
    "\n",
    "# Combine TF-IDF features with sentence length\n",
    "X_combined = pd.concat([tfidf_df, df[['sentence_length']].reset_index(drop=True)], axis=1)\n",
    "\n",
    "# Fit Random Forest model\n",
    "rf_model = RandomForestClassifier()\n",
    "rf_model.fit(X_combined, y_encoded)\n",
    "importances = rf_model.feature_importances_\n",
    "\n",
    "# Create a DataFrame for feature importance\n",
    "feature_names = vectorizer.get_feature_names_out().tolist() + ['sentence_length']\n",
    "top_positive_features = pd.DataFrame({'feature': feature_names, 'importance': importances})\n",
    "top_positive_features = top_positive_features.sort_values(by='importance', ascending=False)\n",
    "\n",
    "# Plotting the top features\n",
    "plt.figure(figsize=(14, 7))\n",
    "sns.barplot(y='feature', x='importance', data=top_positive_features.head(20), palette='viridis')\n",
    "plt.title('Top 20 Positive Features')\n",
    "plt.xlabel('Importance')\n",
    "plt.ylabel('Feature')\n",
    "plt.show()"
   ]
  },
  {
   "cell_type": "code",
   "execution_count": 11,
   "metadata": {
    "id": "a2t2RvspUG3m"
   },
   "outputs": [],
   "source": [
    "vectorizer = TfidfVectorizer()\n",
    "X_tfidf = vectorizer.fit_transform(X)\n",
    "\n",
    "X_train, X_test, y_train, y_test = train_test_split(X_tfidf, y_encoded, random_state=42, test_size=0.2)"
   ]
  },
  {
   "cell_type": "markdown",
   "metadata": {
    "id": "kaXknCBGUM0C"
   },
   "source": [
    "Model Building"
   ]
  },
  {
   "cell_type": "markdown",
   "metadata": {
    "id": "9Pmmduz8UTac"
   },
   "source": [
    "Logistic Regression"
   ]
  },
  {
   "cell_type": "code",
   "execution_count": 12,
   "metadata": {
    "colab": {
     "base_uri": "https://localhost:8080/",
     "height": 80
    },
    "id": "RkCH9UvFUZGF",
    "outputId": "c669bdbe-4178-4251-fb0a-23d688c9e254"
   },
   "outputs": [
    {
     "data": {
      "text/html": [
       "<style>#sk-container-id-1 {\n",
       "  /* Definition of color scheme common for light and dark mode */\n",
       "  --sklearn-color-text: black;\n",
       "  --sklearn-color-line: gray;\n",
       "  /* Definition of color scheme for unfitted estimators */\n",
       "  --sklearn-color-unfitted-level-0: #fff5e6;\n",
       "  --sklearn-color-unfitted-level-1: #f6e4d2;\n",
       "  --sklearn-color-unfitted-level-2: #ffe0b3;\n",
       "  --sklearn-color-unfitted-level-3: chocolate;\n",
       "  /* Definition of color scheme for fitted estimators */\n",
       "  --sklearn-color-fitted-level-0: #f0f8ff;\n",
       "  --sklearn-color-fitted-level-1: #d4ebff;\n",
       "  --sklearn-color-fitted-level-2: #b3dbfd;\n",
       "  --sklearn-color-fitted-level-3: cornflowerblue;\n",
       "\n",
       "  /* Specific color for light theme */\n",
       "  --sklearn-color-text-on-default-background: var(--sg-text-color, var(--theme-code-foreground, var(--jp-content-font-color1, black)));\n",
       "  --sklearn-color-background: var(--sg-background-color, var(--theme-background, var(--jp-layout-color0, white)));\n",
       "  --sklearn-color-border-box: var(--sg-text-color, var(--theme-code-foreground, var(--jp-content-font-color1, black)));\n",
       "  --sklearn-color-icon: #696969;\n",
       "\n",
       "  @media (prefers-color-scheme: dark) {\n",
       "    /* Redefinition of color scheme for dark theme */\n",
       "    --sklearn-color-text-on-default-background: var(--sg-text-color, var(--theme-code-foreground, var(--jp-content-font-color1, white)));\n",
       "    --sklearn-color-background: var(--sg-background-color, var(--theme-background, var(--jp-layout-color0, #111)));\n",
       "    --sklearn-color-border-box: var(--sg-text-color, var(--theme-code-foreground, var(--jp-content-font-color1, white)));\n",
       "    --sklearn-color-icon: #878787;\n",
       "  }\n",
       "}\n",
       "\n",
       "#sk-container-id-1 {\n",
       "  color: var(--sklearn-color-text);\n",
       "}\n",
       "\n",
       "#sk-container-id-1 pre {\n",
       "  padding: 0;\n",
       "}\n",
       "\n",
       "#sk-container-id-1 input.sk-hidden--visually {\n",
       "  border: 0;\n",
       "  clip: rect(1px 1px 1px 1px);\n",
       "  clip: rect(1px, 1px, 1px, 1px);\n",
       "  height: 1px;\n",
       "  margin: -1px;\n",
       "  overflow: hidden;\n",
       "  padding: 0;\n",
       "  position: absolute;\n",
       "  width: 1px;\n",
       "}\n",
       "\n",
       "#sk-container-id-1 div.sk-dashed-wrapped {\n",
       "  border: 1px dashed var(--sklearn-color-line);\n",
       "  margin: 0 0.4em 0.5em 0.4em;\n",
       "  box-sizing: border-box;\n",
       "  padding-bottom: 0.4em;\n",
       "  background-color: var(--sklearn-color-background);\n",
       "}\n",
       "\n",
       "#sk-container-id-1 div.sk-container {\n",
       "  /* jupyter's `normalize.less` sets `[hidden] { display: none; }`\n",
       "     but bootstrap.min.css set `[hidden] { display: none !important; }`\n",
       "     so we also need the `!important` here to be able to override the\n",
       "     default hidden behavior on the sphinx rendered scikit-learn.org.\n",
       "     See: https://github.com/scikit-learn/scikit-learn/issues/21755 */\n",
       "  display: inline-block !important;\n",
       "  position: relative;\n",
       "}\n",
       "\n",
       "#sk-container-id-1 div.sk-text-repr-fallback {\n",
       "  display: none;\n",
       "}\n",
       "\n",
       "div.sk-parallel-item,\n",
       "div.sk-serial,\n",
       "div.sk-item {\n",
       "  /* draw centered vertical line to link estimators */\n",
       "  background-image: linear-gradient(var(--sklearn-color-text-on-default-background), var(--sklearn-color-text-on-default-background));\n",
       "  background-size: 2px 100%;\n",
       "  background-repeat: no-repeat;\n",
       "  background-position: center center;\n",
       "}\n",
       "\n",
       "/* Parallel-specific style estimator block */\n",
       "\n",
       "#sk-container-id-1 div.sk-parallel-item::after {\n",
       "  content: \"\";\n",
       "  width: 100%;\n",
       "  border-bottom: 2px solid var(--sklearn-color-text-on-default-background);\n",
       "  flex-grow: 1;\n",
       "}\n",
       "\n",
       "#sk-container-id-1 div.sk-parallel {\n",
       "  display: flex;\n",
       "  align-items: stretch;\n",
       "  justify-content: center;\n",
       "  background-color: var(--sklearn-color-background);\n",
       "  position: relative;\n",
       "}\n",
       "\n",
       "#sk-container-id-1 div.sk-parallel-item {\n",
       "  display: flex;\n",
       "  flex-direction: column;\n",
       "}\n",
       "\n",
       "#sk-container-id-1 div.sk-parallel-item:first-child::after {\n",
       "  align-self: flex-end;\n",
       "  width: 50%;\n",
       "}\n",
       "\n",
       "#sk-container-id-1 div.sk-parallel-item:last-child::after {\n",
       "  align-self: flex-start;\n",
       "  width: 50%;\n",
       "}\n",
       "\n",
       "#sk-container-id-1 div.sk-parallel-item:only-child::after {\n",
       "  width: 0;\n",
       "}\n",
       "\n",
       "/* Serial-specific style estimator block */\n",
       "\n",
       "#sk-container-id-1 div.sk-serial {\n",
       "  display: flex;\n",
       "  flex-direction: column;\n",
       "  align-items: center;\n",
       "  background-color: var(--sklearn-color-background);\n",
       "  padding-right: 1em;\n",
       "  padding-left: 1em;\n",
       "}\n",
       "\n",
       "\n",
       "/* Toggleable style: style used for estimator/Pipeline/ColumnTransformer box that is\n",
       "clickable and can be expanded/collapsed.\n",
       "- Pipeline and ColumnTransformer use this feature and define the default style\n",
       "- Estimators will overwrite some part of the style using the `sk-estimator` class\n",
       "*/\n",
       "\n",
       "/* Pipeline and ColumnTransformer style (default) */\n",
       "\n",
       "#sk-container-id-1 div.sk-toggleable {\n",
       "  /* Default theme specific background. It is overwritten whether we have a\n",
       "  specific estimator or a Pipeline/ColumnTransformer */\n",
       "  background-color: var(--sklearn-color-background);\n",
       "}\n",
       "\n",
       "/* Toggleable label */\n",
       "#sk-container-id-1 label.sk-toggleable__label {\n",
       "  cursor: pointer;\n",
       "  display: block;\n",
       "  width: 100%;\n",
       "  margin-bottom: 0;\n",
       "  padding: 0.5em;\n",
       "  box-sizing: border-box;\n",
       "  text-align: center;\n",
       "}\n",
       "\n",
       "#sk-container-id-1 label.sk-toggleable__label-arrow:before {\n",
       "  /* Arrow on the left of the label */\n",
       "  content: \"▸\";\n",
       "  float: left;\n",
       "  margin-right: 0.25em;\n",
       "  color: var(--sklearn-color-icon);\n",
       "}\n",
       "\n",
       "#sk-container-id-1 label.sk-toggleable__label-arrow:hover:before {\n",
       "  color: var(--sklearn-color-text);\n",
       "}\n",
       "\n",
       "/* Toggleable content - dropdown */\n",
       "\n",
       "#sk-container-id-1 div.sk-toggleable__content {\n",
       "  max-height: 0;\n",
       "  max-width: 0;\n",
       "  overflow: hidden;\n",
       "  text-align: left;\n",
       "  /* unfitted */\n",
       "  background-color: var(--sklearn-color-unfitted-level-0);\n",
       "}\n",
       "\n",
       "#sk-container-id-1 div.sk-toggleable__content.fitted {\n",
       "  /* fitted */\n",
       "  background-color: var(--sklearn-color-fitted-level-0);\n",
       "}\n",
       "\n",
       "#sk-container-id-1 div.sk-toggleable__content pre {\n",
       "  margin: 0.2em;\n",
       "  border-radius: 0.25em;\n",
       "  color: var(--sklearn-color-text);\n",
       "  /* unfitted */\n",
       "  background-color: var(--sklearn-color-unfitted-level-0);\n",
       "}\n",
       "\n",
       "#sk-container-id-1 div.sk-toggleable__content.fitted pre {\n",
       "  /* unfitted */\n",
       "  background-color: var(--sklearn-color-fitted-level-0);\n",
       "}\n",
       "\n",
       "#sk-container-id-1 input.sk-toggleable__control:checked~div.sk-toggleable__content {\n",
       "  /* Expand drop-down */\n",
       "  max-height: 200px;\n",
       "  max-width: 100%;\n",
       "  overflow: auto;\n",
       "}\n",
       "\n",
       "#sk-container-id-1 input.sk-toggleable__control:checked~label.sk-toggleable__label-arrow:before {\n",
       "  content: \"▾\";\n",
       "}\n",
       "\n",
       "/* Pipeline/ColumnTransformer-specific style */\n",
       "\n",
       "#sk-container-id-1 div.sk-label input.sk-toggleable__control:checked~label.sk-toggleable__label {\n",
       "  color: var(--sklearn-color-text);\n",
       "  background-color: var(--sklearn-color-unfitted-level-2);\n",
       "}\n",
       "\n",
       "#sk-container-id-1 div.sk-label.fitted input.sk-toggleable__control:checked~label.sk-toggleable__label {\n",
       "  background-color: var(--sklearn-color-fitted-level-2);\n",
       "}\n",
       "\n",
       "/* Estimator-specific style */\n",
       "\n",
       "/* Colorize estimator box */\n",
       "#sk-container-id-1 div.sk-estimator input.sk-toggleable__control:checked~label.sk-toggleable__label {\n",
       "  /* unfitted */\n",
       "  background-color: var(--sklearn-color-unfitted-level-2);\n",
       "}\n",
       "\n",
       "#sk-container-id-1 div.sk-estimator.fitted input.sk-toggleable__control:checked~label.sk-toggleable__label {\n",
       "  /* fitted */\n",
       "  background-color: var(--sklearn-color-fitted-level-2);\n",
       "}\n",
       "\n",
       "#sk-container-id-1 div.sk-label label.sk-toggleable__label,\n",
       "#sk-container-id-1 div.sk-label label {\n",
       "  /* The background is the default theme color */\n",
       "  color: var(--sklearn-color-text-on-default-background);\n",
       "}\n",
       "\n",
       "/* On hover, darken the color of the background */\n",
       "#sk-container-id-1 div.sk-label:hover label.sk-toggleable__label {\n",
       "  color: var(--sklearn-color-text);\n",
       "  background-color: var(--sklearn-color-unfitted-level-2);\n",
       "}\n",
       "\n",
       "/* Label box, darken color on hover, fitted */\n",
       "#sk-container-id-1 div.sk-label.fitted:hover label.sk-toggleable__label.fitted {\n",
       "  color: var(--sklearn-color-text);\n",
       "  background-color: var(--sklearn-color-fitted-level-2);\n",
       "}\n",
       "\n",
       "/* Estimator label */\n",
       "\n",
       "#sk-container-id-1 div.sk-label label {\n",
       "  font-family: monospace;\n",
       "  font-weight: bold;\n",
       "  display: inline-block;\n",
       "  line-height: 1.2em;\n",
       "}\n",
       "\n",
       "#sk-container-id-1 div.sk-label-container {\n",
       "  text-align: center;\n",
       "}\n",
       "\n",
       "/* Estimator-specific */\n",
       "#sk-container-id-1 div.sk-estimator {\n",
       "  font-family: monospace;\n",
       "  border: 1px dotted var(--sklearn-color-border-box);\n",
       "  border-radius: 0.25em;\n",
       "  box-sizing: border-box;\n",
       "  margin-bottom: 0.5em;\n",
       "  /* unfitted */\n",
       "  background-color: var(--sklearn-color-unfitted-level-0);\n",
       "}\n",
       "\n",
       "#sk-container-id-1 div.sk-estimator.fitted {\n",
       "  /* fitted */\n",
       "  background-color: var(--sklearn-color-fitted-level-0);\n",
       "}\n",
       "\n",
       "/* on hover */\n",
       "#sk-container-id-1 div.sk-estimator:hover {\n",
       "  /* unfitted */\n",
       "  background-color: var(--sklearn-color-unfitted-level-2);\n",
       "}\n",
       "\n",
       "#sk-container-id-1 div.sk-estimator.fitted:hover {\n",
       "  /* fitted */\n",
       "  background-color: var(--sklearn-color-fitted-level-2);\n",
       "}\n",
       "\n",
       "/* Specification for estimator info (e.g. \"i\" and \"?\") */\n",
       "\n",
       "/* Common style for \"i\" and \"?\" */\n",
       "\n",
       ".sk-estimator-doc-link,\n",
       "a:link.sk-estimator-doc-link,\n",
       "a:visited.sk-estimator-doc-link {\n",
       "  float: right;\n",
       "  font-size: smaller;\n",
       "  line-height: 1em;\n",
       "  font-family: monospace;\n",
       "  background-color: var(--sklearn-color-background);\n",
       "  border-radius: 1em;\n",
       "  height: 1em;\n",
       "  width: 1em;\n",
       "  text-decoration: none !important;\n",
       "  margin-left: 1ex;\n",
       "  /* unfitted */\n",
       "  border: var(--sklearn-color-unfitted-level-1) 1pt solid;\n",
       "  color: var(--sklearn-color-unfitted-level-1);\n",
       "}\n",
       "\n",
       ".sk-estimator-doc-link.fitted,\n",
       "a:link.sk-estimator-doc-link.fitted,\n",
       "a:visited.sk-estimator-doc-link.fitted {\n",
       "  /* fitted */\n",
       "  border: var(--sklearn-color-fitted-level-1) 1pt solid;\n",
       "  color: var(--sklearn-color-fitted-level-1);\n",
       "}\n",
       "\n",
       "/* On hover */\n",
       "div.sk-estimator:hover .sk-estimator-doc-link:hover,\n",
       ".sk-estimator-doc-link:hover,\n",
       "div.sk-label-container:hover .sk-estimator-doc-link:hover,\n",
       ".sk-estimator-doc-link:hover {\n",
       "  /* unfitted */\n",
       "  background-color: var(--sklearn-color-unfitted-level-3);\n",
       "  color: var(--sklearn-color-background);\n",
       "  text-decoration: none;\n",
       "}\n",
       "\n",
       "div.sk-estimator.fitted:hover .sk-estimator-doc-link.fitted:hover,\n",
       ".sk-estimator-doc-link.fitted:hover,\n",
       "div.sk-label-container:hover .sk-estimator-doc-link.fitted:hover,\n",
       ".sk-estimator-doc-link.fitted:hover {\n",
       "  /* fitted */\n",
       "  background-color: var(--sklearn-color-fitted-level-3);\n",
       "  color: var(--sklearn-color-background);\n",
       "  text-decoration: none;\n",
       "}\n",
       "\n",
       "/* Span, style for the box shown on hovering the info icon */\n",
       ".sk-estimator-doc-link span {\n",
       "  display: none;\n",
       "  z-index: 9999;\n",
       "  position: relative;\n",
       "  font-weight: normal;\n",
       "  right: .2ex;\n",
       "  padding: .5ex;\n",
       "  margin: .5ex;\n",
       "  width: min-content;\n",
       "  min-width: 20ex;\n",
       "  max-width: 50ex;\n",
       "  color: var(--sklearn-color-text);\n",
       "  box-shadow: 2pt 2pt 4pt #999;\n",
       "  /* unfitted */\n",
       "  background: var(--sklearn-color-unfitted-level-0);\n",
       "  border: .5pt solid var(--sklearn-color-unfitted-level-3);\n",
       "}\n",
       "\n",
       ".sk-estimator-doc-link.fitted span {\n",
       "  /* fitted */\n",
       "  background: var(--sklearn-color-fitted-level-0);\n",
       "  border: var(--sklearn-color-fitted-level-3);\n",
       "}\n",
       "\n",
       ".sk-estimator-doc-link:hover span {\n",
       "  display: block;\n",
       "}\n",
       "\n",
       "/* \"?\"-specific style due to the `<a>` HTML tag */\n",
       "\n",
       "#sk-container-id-1 a.estimator_doc_link {\n",
       "  float: right;\n",
       "  font-size: 1rem;\n",
       "  line-height: 1em;\n",
       "  font-family: monospace;\n",
       "  background-color: var(--sklearn-color-background);\n",
       "  border-radius: 1rem;\n",
       "  height: 1rem;\n",
       "  width: 1rem;\n",
       "  text-decoration: none;\n",
       "  /* unfitted */\n",
       "  color: var(--sklearn-color-unfitted-level-1);\n",
       "  border: var(--sklearn-color-unfitted-level-1) 1pt solid;\n",
       "}\n",
       "\n",
       "#sk-container-id-1 a.estimator_doc_link.fitted {\n",
       "  /* fitted */\n",
       "  border: var(--sklearn-color-fitted-level-1) 1pt solid;\n",
       "  color: var(--sklearn-color-fitted-level-1);\n",
       "}\n",
       "\n",
       "/* On hover */\n",
       "#sk-container-id-1 a.estimator_doc_link:hover {\n",
       "  /* unfitted */\n",
       "  background-color: var(--sklearn-color-unfitted-level-3);\n",
       "  color: var(--sklearn-color-background);\n",
       "  text-decoration: none;\n",
       "}\n",
       "\n",
       "#sk-container-id-1 a.estimator_doc_link.fitted:hover {\n",
       "  /* fitted */\n",
       "  background-color: var(--sklearn-color-fitted-level-3);\n",
       "}\n",
       "</style><div id=\"sk-container-id-1\" class=\"sk-top-container\"><div class=\"sk-text-repr-fallback\"><pre>LogisticRegression()</pre><b>In a Jupyter environment, please rerun this cell to show the HTML representation or trust the notebook. <br />On GitHub, the HTML representation is unable to render, please try loading this page with nbviewer.org.</b></div><div class=\"sk-container\" hidden><div class=\"sk-item\"><div class=\"sk-estimator fitted sk-toggleable\"><input class=\"sk-toggleable__control sk-hidden--visually\" id=\"sk-estimator-id-1\" type=\"checkbox\" checked><label for=\"sk-estimator-id-1\" class=\"sk-toggleable__label fitted sk-toggleable__label-arrow fitted\">&nbsp;&nbsp;LogisticRegression<a class=\"sk-estimator-doc-link fitted\" rel=\"noreferrer\" target=\"_blank\" href=\"https://scikit-learn.org/1.4/modules/generated/sklearn.linear_model.LogisticRegression.html\">?<span>Documentation for LogisticRegression</span></a><span class=\"sk-estimator-doc-link fitted\">i<span>Fitted</span></span></label><div class=\"sk-toggleable__content fitted\"><pre>LogisticRegression()</pre></div> </div></div></div></div>"
      ],
      "text/plain": [
       "LogisticRegression()"
      ]
     },
     "execution_count": 12,
     "metadata": {},
     "output_type": "execute_result"
    }
   ],
   "source": [
    "model1 = LogisticRegression()\n",
    "model1.fit(X_train, y_train)"
   ]
  },
  {
   "cell_type": "code",
   "execution_count": 13,
   "metadata": {
    "colab": {
     "base_uri": "https://localhost:8080/"
    },
    "id": "0ZV9yTaZUglk",
    "outputId": "0aa3b6a8-3650-4b08-dd98-911a0e72f89f"
   },
   "outputs": [
    {
     "name": "stdout",
     "output_type": "stream",
     "text": [
      "Logistic Regression Accuracy: 1.0\n",
      "\n",
      "Classification Report:\n",
      "               precision    recall  f1-score   support\n",
      "\n",
      "           0       1.00      1.00      1.00        41\n",
      "           1       1.00      1.00      1.00        38\n",
      "\n",
      "    accuracy                           1.00        79\n",
      "   macro avg       1.00      1.00      1.00        79\n",
      "weighted avg       1.00      1.00      1.00        79\n",
      "\n"
     ]
    }
   ],
   "source": [
    "y_pred = model1.predict(X_test)\n",
    "print(\"Logistic Regression Accuracy:\", accuracy_score(y_test, y_pred))\n",
    "print(\"\\nClassification Report:\\n\", classification_report(y_test, y_pred))"
   ]
  },
  {
   "cell_type": "markdown",
   "metadata": {
    "id": "0hlE7wqeUskv"
   },
   "source": [
    "ANN"
   ]
  },
  {
   "cell_type": "code",
   "execution_count": 14,
   "metadata": {
    "colab": {
     "base_uri": "https://localhost:8080/"
    },
    "id": "SmN0dcniUuM8",
    "outputId": "66d5c268-eefa-4d1f-bcaf-0a85cdbd7bfa"
   },
   "outputs": [
    {
     "name": "stderr",
     "output_type": "stream",
     "text": [
      "C:\\Users\\Thanuja\\AppData\\Roaming\\Python\\Python312\\site-packages\\keras\\src\\layers\\core\\dense.py:87: UserWarning: Do not pass an `input_shape`/`input_dim` argument to a layer. When using Sequential models, prefer using an `Input(shape)` object as the first layer in the model instead.\n",
      "  super().__init__(activity_regularizer=activity_regularizer, **kwargs)\n"
     ]
    }
   ],
   "source": [
    "model = Sequential([\n",
    "    Dense(512, activation='relu', input_shape=(X_train.shape[1],)),\n",
    "    Dropout(0.5),\n",
    "    Dense(256, activation='relu'),\n",
    "    Dropout(0.5),\n",
    "    Dense(1, activation='sigmoid')\n",
    "])"
   ]
  },
  {
   "cell_type": "code",
   "execution_count": 15,
   "metadata": {
    "id": "Dga3a0otVErL"
   },
   "outputs": [],
   "source": [
    "model.compile(optimizer=Adam(learning_rate=1e-4), loss='binary_crossentropy', metrics=['accuracy'])"
   ]
  },
  {
   "cell_type": "code",
   "execution_count": 16,
   "metadata": {
    "colab": {
     "base_uri": "https://localhost:8080/",
     "height": 289
    },
    "id": "9VaLIiQpVUFQ",
    "outputId": "59e042bc-6b7e-484b-8427-2e5789619bfc"
   },
   "outputs": [
    {
     "data": {
      "text/html": [
       "<pre style=\"white-space:pre;overflow-x:auto;line-height:normal;font-family:Menlo,'DejaVu Sans Mono',consolas,'Courier New',monospace\"><span style=\"font-weight: bold\">Model: \"sequential\"</span>\n",
       "</pre>\n"
      ],
      "text/plain": [
       "\u001b[1mModel: \"sequential\"\u001b[0m\n"
      ]
     },
     "metadata": {},
     "output_type": "display_data"
    },
    {
     "data": {
      "text/html": [
       "<pre style=\"white-space:pre;overflow-x:auto;line-height:normal;font-family:Menlo,'DejaVu Sans Mono',consolas,'Courier New',monospace\">┏━━━━━━━━━━━━━━━━━━━━━━━━━━━━━━━━━┳━━━━━━━━━━━━━━━━━━━━━━━━┳━━━━━━━━━━━━━━━┓\n",
       "┃<span style=\"font-weight: bold\"> Layer (type)                    </span>┃<span style=\"font-weight: bold\"> Output Shape           </span>┃<span style=\"font-weight: bold\">       Param # </span>┃\n",
       "┡━━━━━━━━━━━━━━━━━━━━━━━━━━━━━━━━━╇━━━━━━━━━━━━━━━━━━━━━━━━╇━━━━━━━━━━━━━━━┩\n",
       "│ dense (<span style=\"color: #0087ff; text-decoration-color: #0087ff\">Dense</span>)                   │ (<span style=\"color: #00d7ff; text-decoration-color: #00d7ff\">None</span>, <span style=\"color: #00af00; text-decoration-color: #00af00\">512</span>)            │       <span style=\"color: #00af00; text-decoration-color: #00af00\">261,120</span> │\n",
       "├─────────────────────────────────┼────────────────────────┼───────────────┤\n",
       "│ dropout (<span style=\"color: #0087ff; text-decoration-color: #0087ff\">Dropout</span>)               │ (<span style=\"color: #00d7ff; text-decoration-color: #00d7ff\">None</span>, <span style=\"color: #00af00; text-decoration-color: #00af00\">512</span>)            │             <span style=\"color: #00af00; text-decoration-color: #00af00\">0</span> │\n",
       "├─────────────────────────────────┼────────────────────────┼───────────────┤\n",
       "│ dense_1 (<span style=\"color: #0087ff; text-decoration-color: #0087ff\">Dense</span>)                 │ (<span style=\"color: #00d7ff; text-decoration-color: #00d7ff\">None</span>, <span style=\"color: #00af00; text-decoration-color: #00af00\">256</span>)            │       <span style=\"color: #00af00; text-decoration-color: #00af00\">131,328</span> │\n",
       "├─────────────────────────────────┼────────────────────────┼───────────────┤\n",
       "│ dropout_1 (<span style=\"color: #0087ff; text-decoration-color: #0087ff\">Dropout</span>)             │ (<span style=\"color: #00d7ff; text-decoration-color: #00d7ff\">None</span>, <span style=\"color: #00af00; text-decoration-color: #00af00\">256</span>)            │             <span style=\"color: #00af00; text-decoration-color: #00af00\">0</span> │\n",
       "├─────────────────────────────────┼────────────────────────┼───────────────┤\n",
       "│ dense_2 (<span style=\"color: #0087ff; text-decoration-color: #0087ff\">Dense</span>)                 │ (<span style=\"color: #00d7ff; text-decoration-color: #00d7ff\">None</span>, <span style=\"color: #00af00; text-decoration-color: #00af00\">1</span>)              │           <span style=\"color: #00af00; text-decoration-color: #00af00\">257</span> │\n",
       "└─────────────────────────────────┴────────────────────────┴───────────────┘\n",
       "</pre>\n"
      ],
      "text/plain": [
       "┏━━━━━━━━━━━━━━━━━━━━━━━━━━━━━━━━━┳━━━━━━━━━━━━━━━━━━━━━━━━┳━━━━━━━━━━━━━━━┓\n",
       "┃\u001b[1m \u001b[0m\u001b[1mLayer (type)                   \u001b[0m\u001b[1m \u001b[0m┃\u001b[1m \u001b[0m\u001b[1mOutput Shape          \u001b[0m\u001b[1m \u001b[0m┃\u001b[1m \u001b[0m\u001b[1m      Param #\u001b[0m\u001b[1m \u001b[0m┃\n",
       "┡━━━━━━━━━━━━━━━━━━━━━━━━━━━━━━━━━╇━━━━━━━━━━━━━━━━━━━━━━━━╇━━━━━━━━━━━━━━━┩\n",
       "│ dense (\u001b[38;5;33mDense\u001b[0m)                   │ (\u001b[38;5;45mNone\u001b[0m, \u001b[38;5;34m512\u001b[0m)            │       \u001b[38;5;34m261,120\u001b[0m │\n",
       "├─────────────────────────────────┼────────────────────────┼───────────────┤\n",
       "│ dropout (\u001b[38;5;33mDropout\u001b[0m)               │ (\u001b[38;5;45mNone\u001b[0m, \u001b[38;5;34m512\u001b[0m)            │             \u001b[38;5;34m0\u001b[0m │\n",
       "├─────────────────────────────────┼────────────────────────┼───────────────┤\n",
       "│ dense_1 (\u001b[38;5;33mDense\u001b[0m)                 │ (\u001b[38;5;45mNone\u001b[0m, \u001b[38;5;34m256\u001b[0m)            │       \u001b[38;5;34m131,328\u001b[0m │\n",
       "├─────────────────────────────────┼────────────────────────┼───────────────┤\n",
       "│ dropout_1 (\u001b[38;5;33mDropout\u001b[0m)             │ (\u001b[38;5;45mNone\u001b[0m, \u001b[38;5;34m256\u001b[0m)            │             \u001b[38;5;34m0\u001b[0m │\n",
       "├─────────────────────────────────┼────────────────────────┼───────────────┤\n",
       "│ dense_2 (\u001b[38;5;33mDense\u001b[0m)                 │ (\u001b[38;5;45mNone\u001b[0m, \u001b[38;5;34m1\u001b[0m)              │           \u001b[38;5;34m257\u001b[0m │\n",
       "└─────────────────────────────────┴────────────────────────┴───────────────┘\n"
      ]
     },
     "metadata": {},
     "output_type": "display_data"
    },
    {
     "data": {
      "text/html": [
       "<pre style=\"white-space:pre;overflow-x:auto;line-height:normal;font-family:Menlo,'DejaVu Sans Mono',consolas,'Courier New',monospace\"><span style=\"font-weight: bold\"> Total params: </span><span style=\"color: #00af00; text-decoration-color: #00af00\">392,705</span> (1.50 MB)\n",
       "</pre>\n"
      ],
      "text/plain": [
       "\u001b[1m Total params: \u001b[0m\u001b[38;5;34m392,705\u001b[0m (1.50 MB)\n"
      ]
     },
     "metadata": {},
     "output_type": "display_data"
    },
    {
     "data": {
      "text/html": [
       "<pre style=\"white-space:pre;overflow-x:auto;line-height:normal;font-family:Menlo,'DejaVu Sans Mono',consolas,'Courier New',monospace\"><span style=\"font-weight: bold\"> Trainable params: </span><span style=\"color: #00af00; text-decoration-color: #00af00\">392,705</span> (1.50 MB)\n",
       "</pre>\n"
      ],
      "text/plain": [
       "\u001b[1m Trainable params: \u001b[0m\u001b[38;5;34m392,705\u001b[0m (1.50 MB)\n"
      ]
     },
     "metadata": {},
     "output_type": "display_data"
    },
    {
     "data": {
      "text/html": [
       "<pre style=\"white-space:pre;overflow-x:auto;line-height:normal;font-family:Menlo,'DejaVu Sans Mono',consolas,'Courier New',monospace\"><span style=\"font-weight: bold\"> Non-trainable params: </span><span style=\"color: #00af00; text-decoration-color: #00af00\">0</span> (0.00 B)\n",
       "</pre>\n"
      ],
      "text/plain": [
       "\u001b[1m Non-trainable params: \u001b[0m\u001b[38;5;34m0\u001b[0m (0.00 B)\n"
      ]
     },
     "metadata": {},
     "output_type": "display_data"
    }
   ],
   "source": [
    "model.summary()"
   ]
  },
  {
   "cell_type": "code",
   "execution_count": 17,
   "metadata": {
    "colab": {
     "base_uri": "https://localhost:8080/"
    },
    "id": "JL1KOqxXVatq",
    "outputId": "8a6bb32e-acfb-4ddc-d60b-37b819eb740f"
   },
   "outputs": [
    {
     "name": "stdout",
     "output_type": "stream",
     "text": [
      "  (0, 270)\t0.7222924235142234\n",
      "  (0, 494)\t0.6041349672119037\n",
      "  (0, 478)\t0.2332956009153811\n",
      "  (0, 452)\t0.24266800143272493\n"
     ]
    }
   ],
   "source": [
    "for ele in X_train :\n",
    "    print(ele)\n",
    "    break"
   ]
  },
  {
   "cell_type": "code",
   "execution_count": 18,
   "metadata": {
    "colab": {
     "base_uri": "https://localhost:8080/"
    },
    "id": "Y8l9Bsw7VkRB",
    "outputId": "4ffeae82-2a7a-4772-bef8-4ca4056a3c50"
   },
   "outputs": [
    {
     "name": "stdout",
     "output_type": "stream",
     "text": [
      "Epoch 1/75\n",
      "5/5 - 5s - 968ms/step - accuracy: 0.5929 - loss: 0.6866 - val_accuracy: 0.4810 - val_loss: 0.6926\n",
      "Epoch 2/75\n",
      "5/5 - 0s - 33ms/step - accuracy: 0.6250 - loss: 0.6775 - val_accuracy: 0.4810 - val_loss: 0.6916\n",
      "Epoch 3/75\n",
      "5/5 - 0s - 31ms/step - accuracy: 0.6538 - loss: 0.6739 - val_accuracy: 0.4810 - val_loss: 0.6905\n",
      "Epoch 4/75\n",
      "5/5 - 0s - 35ms/step - accuracy: 0.6571 - loss: 0.6702 - val_accuracy: 0.4810 - val_loss: 0.6894\n",
      "Epoch 5/75\n",
      "5/5 - 0s - 31ms/step - accuracy: 0.6538 - loss: 0.6643 - val_accuracy: 0.4810 - val_loss: 0.6884\n",
      "Epoch 6/75\n",
      "5/5 - 0s - 33ms/step - accuracy: 0.6378 - loss: 0.6622 - val_accuracy: 0.4810 - val_loss: 0.6873\n",
      "Epoch 7/75\n",
      "5/5 - 0s - 31ms/step - accuracy: 0.6282 - loss: 0.6606 - val_accuracy: 0.4810 - val_loss: 0.6861\n",
      "Epoch 8/75\n",
      "5/5 - 0s - 28ms/step - accuracy: 0.6250 - loss: 0.6525 - val_accuracy: 0.4810 - val_loss: 0.6849\n",
      "Epoch 9/75\n",
      "5/5 - 0s - 31ms/step - accuracy: 0.6186 - loss: 0.6510 - val_accuracy: 0.4810 - val_loss: 0.6837\n",
      "Epoch 10/75\n",
      "5/5 - 0s - 34ms/step - accuracy: 0.6250 - loss: 0.6438 - val_accuracy: 0.4810 - val_loss: 0.6824\n",
      "Epoch 11/75\n",
      "5/5 - 0s - 74ms/step - accuracy: 0.6250 - loss: 0.6364 - val_accuracy: 0.4810 - val_loss: 0.6811\n",
      "Epoch 12/75\n",
      "5/5 - 0s - 34ms/step - accuracy: 0.6218 - loss: 0.6342 - val_accuracy: 0.4810 - val_loss: 0.6795\n",
      "Epoch 13/75\n",
      "5/5 - 0s - 37ms/step - accuracy: 0.6218 - loss: 0.6312 - val_accuracy: 0.4810 - val_loss: 0.6776\n",
      "Epoch 14/75\n",
      "5/5 - 0s - 34ms/step - accuracy: 0.6250 - loss: 0.6236 - val_accuracy: 0.4810 - val_loss: 0.6755\n",
      "Epoch 15/75\n",
      "5/5 - 0s - 34ms/step - accuracy: 0.6186 - loss: 0.6221 - val_accuracy: 0.4810 - val_loss: 0.6734\n",
      "Epoch 16/75\n",
      "5/5 - 0s - 31ms/step - accuracy: 0.6282 - loss: 0.6092 - val_accuracy: 0.4810 - val_loss: 0.6711\n",
      "Epoch 17/75\n",
      "5/5 - 0s - 30ms/step - accuracy: 0.6218 - loss: 0.6052 - val_accuracy: 0.4810 - val_loss: 0.6684\n",
      "Epoch 18/75\n",
      "5/5 - 0s - 30ms/step - accuracy: 0.6250 - loss: 0.6000 - val_accuracy: 0.4810 - val_loss: 0.6657\n",
      "Epoch 19/75\n",
      "5/5 - 0s - 38ms/step - accuracy: 0.6250 - loss: 0.5942 - val_accuracy: 0.4810 - val_loss: 0.6628\n",
      "Epoch 20/75\n",
      "5/5 - 0s - 39ms/step - accuracy: 0.6314 - loss: 0.5882 - val_accuracy: 0.4810 - val_loss: 0.6593\n",
      "Epoch 21/75\n",
      "5/5 - 0s - 38ms/step - accuracy: 0.6346 - loss: 0.5822 - val_accuracy: 0.4810 - val_loss: 0.6557\n",
      "Epoch 22/75\n",
      "5/5 - 0s - 39ms/step - accuracy: 0.6410 - loss: 0.5749 - val_accuracy: 0.4810 - val_loss: 0.6517\n",
      "Epoch 23/75\n",
      "5/5 - 0s - 74ms/step - accuracy: 0.6538 - loss: 0.5652 - val_accuracy: 0.4810 - val_loss: 0.6468\n",
      "Epoch 24/75\n",
      "5/5 - 0s - 39ms/step - accuracy: 0.6571 - loss: 0.5580 - val_accuracy: 0.4810 - val_loss: 0.6419\n",
      "Epoch 25/75\n",
      "5/5 - 0s - 35ms/step - accuracy: 0.6346 - loss: 0.5502 - val_accuracy: 0.4937 - val_loss: 0.6366\n",
      "Epoch 26/75\n",
      "5/5 - 0s - 33ms/step - accuracy: 0.6763 - loss: 0.5408 - val_accuracy: 0.4937 - val_loss: 0.6306\n",
      "Epoch 27/75\n",
      "5/5 - 0s - 36ms/step - accuracy: 0.6731 - loss: 0.5290 - val_accuracy: 0.4937 - val_loss: 0.6236\n",
      "Epoch 28/75\n",
      "5/5 - 0s - 33ms/step - accuracy: 0.6923 - loss: 0.5188 - val_accuracy: 0.4937 - val_loss: 0.6161\n",
      "Epoch 29/75\n",
      "5/5 - 0s - 37ms/step - accuracy: 0.6955 - loss: 0.5087 - val_accuracy: 0.4937 - val_loss: 0.6082\n",
      "Epoch 30/75\n",
      "5/5 - 0s - 34ms/step - accuracy: 0.7564 - loss: 0.4958 - val_accuracy: 0.5063 - val_loss: 0.5999\n",
      "Epoch 31/75\n",
      "5/5 - 0s - 38ms/step - accuracy: 0.7788 - loss: 0.4810 - val_accuracy: 0.5190 - val_loss: 0.5905\n",
      "Epoch 32/75\n",
      "5/5 - 0s - 65ms/step - accuracy: 0.8045 - loss: 0.4726 - val_accuracy: 0.5190 - val_loss: 0.5805\n",
      "Epoch 33/75\n",
      "5/5 - 0s - 38ms/step - accuracy: 0.7949 - loss: 0.4596 - val_accuracy: 0.5443 - val_loss: 0.5706\n",
      "Epoch 34/75\n",
      "5/5 - 0s - 34ms/step - accuracy: 0.8429 - loss: 0.4476 - val_accuracy: 0.5696 - val_loss: 0.5598\n",
      "Epoch 35/75\n",
      "5/5 - 0s - 35ms/step - accuracy: 0.8622 - loss: 0.4341 - val_accuracy: 0.6203 - val_loss: 0.5485\n",
      "Epoch 36/75\n",
      "5/5 - 0s - 36ms/step - accuracy: 0.9071 - loss: 0.4208 - val_accuracy: 0.6203 - val_loss: 0.5366\n",
      "Epoch 37/75\n",
      "5/5 - 0s - 34ms/step - accuracy: 0.9199 - loss: 0.4014 - val_accuracy: 0.6962 - val_loss: 0.5237\n",
      "Epoch 38/75\n",
      "5/5 - 0s - 68ms/step - accuracy: 0.9455 - loss: 0.3921 - val_accuracy: 0.7848 - val_loss: 0.5105\n",
      "Epoch 39/75\n",
      "5/5 - 0s - 37ms/step - accuracy: 0.9615 - loss: 0.3755 - val_accuracy: 0.8101 - val_loss: 0.4978\n",
      "Epoch 40/75\n",
      "5/5 - 0s - 30ms/step - accuracy: 0.9519 - loss: 0.3643 - val_accuracy: 0.8228 - val_loss: 0.4847\n",
      "Epoch 41/75\n",
      "5/5 - 0s - 35ms/step - accuracy: 0.9615 - loss: 0.3508 - val_accuracy: 0.8354 - val_loss: 0.4714\n",
      "Epoch 42/75\n",
      "5/5 - 0s - 29ms/step - accuracy: 0.9776 - loss: 0.3342 - val_accuracy: 0.8608 - val_loss: 0.4579\n",
      "Epoch 43/75\n",
      "5/5 - 0s - 30ms/step - accuracy: 0.9872 - loss: 0.3123 - val_accuracy: 0.8608 - val_loss: 0.4444\n",
      "Epoch 44/75\n",
      "5/5 - 0s - 33ms/step - accuracy: 0.9872 - loss: 0.3012 - val_accuracy: 0.8861 - val_loss: 0.4304\n",
      "Epoch 45/75\n",
      "5/5 - 0s - 43ms/step - accuracy: 0.9904 - loss: 0.2836 - val_accuracy: 0.9114 - val_loss: 0.4164\n",
      "Epoch 46/75\n",
      "5/5 - 0s - 30ms/step - accuracy: 0.9904 - loss: 0.2778 - val_accuracy: 0.9367 - val_loss: 0.4021\n",
      "Epoch 47/75\n",
      "5/5 - 0s - 30ms/step - accuracy: 0.9936 - loss: 0.2485 - val_accuracy: 0.9367 - val_loss: 0.3891\n",
      "Epoch 48/75\n",
      "5/5 - 0s - 34ms/step - accuracy: 0.9936 - loss: 0.2484 - val_accuracy: 0.9494 - val_loss: 0.3759\n",
      "Epoch 49/75\n",
      "5/5 - 0s - 36ms/step - accuracy: 0.9936 - loss: 0.2284 - val_accuracy: 0.9494 - val_loss: 0.3629\n",
      "Epoch 50/75\n",
      "5/5 - 0s - 30ms/step - accuracy: 0.9936 - loss: 0.2164 - val_accuracy: 0.9494 - val_loss: 0.3509\n",
      "Epoch 51/75\n",
      "5/5 - 0s - 31ms/step - accuracy: 0.9968 - loss: 0.2096 - val_accuracy: 0.9494 - val_loss: 0.3392\n",
      "Epoch 52/75\n",
      "5/5 - 0s - 35ms/step - accuracy: 0.9936 - loss: 0.1968 - val_accuracy: 0.9620 - val_loss: 0.3272\n",
      "Epoch 53/75\n",
      "5/5 - 0s - 34ms/step - accuracy: 0.9904 - loss: 0.1842 - val_accuracy: 0.9620 - val_loss: 0.3162\n",
      "Epoch 54/75\n",
      "5/5 - 0s - 28ms/step - accuracy: 0.9936 - loss: 0.1757 - val_accuracy: 0.9620 - val_loss: 0.3061\n",
      "Epoch 55/75\n",
      "5/5 - 0s - 34ms/step - accuracy: 0.9936 - loss: 0.1666 - val_accuracy: 0.9620 - val_loss: 0.2959\n",
      "Epoch 56/75\n",
      "5/5 - 0s - 72ms/step - accuracy: 0.9968 - loss: 0.1551 - val_accuracy: 0.9620 - val_loss: 0.2860\n",
      "Epoch 57/75\n",
      "5/5 - 0s - 67ms/step - accuracy: 0.9968 - loss: 0.1464 - val_accuracy: 0.9747 - val_loss: 0.2761\n",
      "Epoch 58/75\n",
      "5/5 - 0s - 34ms/step - accuracy: 0.9968 - loss: 0.1398 - val_accuracy: 0.9747 - val_loss: 0.2670\n",
      "Epoch 59/75\n",
      "5/5 - 0s - 77ms/step - accuracy: 0.9968 - loss: 0.1296 - val_accuracy: 0.9747 - val_loss: 0.2590\n",
      "Epoch 60/75\n",
      "5/5 - 0s - 34ms/step - accuracy: 0.9936 - loss: 0.1248 - val_accuracy: 0.9747 - val_loss: 0.2513\n",
      "Epoch 61/75\n",
      "5/5 - 0s - 38ms/step - accuracy: 0.9968 - loss: 0.1145 - val_accuracy: 0.9747 - val_loss: 0.2440\n",
      "Epoch 62/75\n",
      "5/5 - 0s - 33ms/step - accuracy: 0.9904 - loss: 0.1120 - val_accuracy: 0.9747 - val_loss: 0.2372\n",
      "Epoch 63/75\n",
      "5/5 - 0s - 36ms/step - accuracy: 0.9968 - loss: 0.1039 - val_accuracy: 0.9747 - val_loss: 0.2304\n",
      "Epoch 64/75\n",
      "5/5 - 0s - 36ms/step - accuracy: 0.9968 - loss: 0.0982 - val_accuracy: 0.9747 - val_loss: 0.2236\n",
      "Epoch 65/75\n",
      "5/5 - 0s - 34ms/step - accuracy: 0.9968 - loss: 0.0930 - val_accuracy: 0.9747 - val_loss: 0.2170\n",
      "Epoch 66/75\n",
      "5/5 - 0s - 34ms/step - accuracy: 0.9968 - loss: 0.0921 - val_accuracy: 0.9873 - val_loss: 0.2106\n",
      "Epoch 67/75\n",
      "5/5 - 0s - 32ms/step - accuracy: 0.9968 - loss: 0.0852 - val_accuracy: 0.9873 - val_loss: 0.2041\n",
      "Epoch 68/75\n",
      "5/5 - 0s - 32ms/step - accuracy: 0.9936 - loss: 0.0808 - val_accuracy: 0.9873 - val_loss: 0.1988\n",
      "Epoch 69/75\n",
      "5/5 - 0s - 31ms/step - accuracy: 0.9968 - loss: 0.0736 - val_accuracy: 0.9873 - val_loss: 0.1936\n",
      "Epoch 70/75\n",
      "5/5 - 0s - 32ms/step - accuracy: 0.9968 - loss: 0.0752 - val_accuracy: 0.9873 - val_loss: 0.1888\n",
      "Epoch 71/75\n",
      "5/5 - 0s - 42ms/step - accuracy: 0.9968 - loss: 0.0704 - val_accuracy: 0.9873 - val_loss: 0.1842\n",
      "Epoch 72/75\n",
      "5/5 - 0s - 34ms/step - accuracy: 0.9968 - loss: 0.0662 - val_accuracy: 0.9873 - val_loss: 0.1798\n",
      "Epoch 73/75\n",
      "5/5 - 0s - 29ms/step - accuracy: 1.0000 - loss: 0.0625 - val_accuracy: 0.9873 - val_loss: 0.1758\n",
      "Epoch 74/75\n",
      "5/5 - 0s - 33ms/step - accuracy: 0.9968 - loss: 0.0572 - val_accuracy: 0.9873 - val_loss: 0.1716\n",
      "Epoch 75/75\n",
      "5/5 - 0s - 29ms/step - accuracy: 0.9968 - loss: 0.0583 - val_accuracy: 0.9873 - val_loss: 0.1674\n",
      "\u001b[1m3/3\u001b[0m \u001b[32m━━━━━━━━━━━━━━━━━━━━\u001b[0m\u001b[37m\u001b[0m \u001b[1m0s\u001b[0m 10ms/step - accuracy: 0.9820 - loss: 0.1591\n",
      "Neural Network Accuracy: 0.9873417615890503\n"
     ]
    }
   ],
   "source": [
    "history = model.fit(X_train.toarray(), y_train,\n",
    "                    epochs=75,\n",
    "                    batch_size=64,\n",
    "                    validation_data=(X_test.toarray(), y_test),\n",
    "                    verbose=2)\n",
    "\n",
    "\n",
    "# Evaluate the neural network model\n",
    "loss, accuracy = model.evaluate(X_test.toarray(), y_test)\n",
    "print(\"Neural Network Accuracy:\", accuracy)"
   ]
  },
  {
   "cell_type": "code",
   "execution_count": 19,
   "metadata": {
    "colab": {
     "base_uri": "https://localhost:8080/"
    },
    "id": "JZZqs2I0V0DA",
    "outputId": "e63544ba-7aa4-4516-f905-8530200e4bce"
   },
   "outputs": [
    {
     "name": "stdout",
     "output_type": "stream",
     "text": [
      "\u001b[1m3/3\u001b[0m \u001b[32m━━━━━━━━━━━━━━━━━━━━\u001b[0m\u001b[37m\u001b[0m \u001b[1m0s\u001b[0m 42ms/step\n",
      "\n",
      "Classification Report:\n",
      "               precision    recall  f1-score   support\n",
      "\n",
      "    Metaphor       1.00      0.98      0.99        41\n",
      "      Simile       0.97      1.00      0.99        38\n",
      "\n",
      "    accuracy                           0.99        79\n",
      "   macro avg       0.99      0.99      0.99        79\n",
      "weighted avg       0.99      0.99      0.99        79\n",
      "\n"
     ]
    }
   ],
   "source": [
    "y_pred_prob = model.predict(X_test.toarray())\n",
    "y_pred = (y_pred_prob > 0.5).astype(int).flatten()\n",
    "\n",
    "print(\"\\nClassification Report:\\n\", classification_report(y_test, y_pred, target_names=label_encoder.classes_))"
   ]
  },
  {
   "cell_type": "code",
   "execution_count": 20,
   "metadata": {
    "colab": {
     "base_uri": "https://localhost:8080/",
     "height": 564
    },
    "id": "s9LgW5BxV-Kr",
    "outputId": "d54d1f57-ec48-494e-a3ee-a4ddb2aaa4ac"
   },
   "outputs": [
    {
     "data": {
      "image/png": "[encoded data removed]",
      "text/plain": [
       "<Figure size 1000x600 with 1 Axes>"
      ]
     },
     "metadata": {},
     "output_type": "display_data"
    }
   ],
   "source": [
    "plt.figure(figsize=(10, 6))\n",
    "plt.plot(history.history['accuracy'], label='Accuracy (Training)')\n",
    "plt.plot(history.history['val_accuracy'], label='Accuracy (Validation)')\n",
    "plt.title('Training and Validation Accuracy')\n",
    "plt.xlabel('Epochs')\n",
    "plt.ylabel('Accuracy')\n",
    "plt.legend()\n",
    "plt.show()"
   ]
  },
  {
   "cell_type": "code",
   "execution_count": 21,
   "metadata": {
    "id": "Pd-eXZhoWHR1"
   },
   "outputs": [],
   "source": [
    "import pickle\n",
    "with open('vector_model.pkl', 'wb') as file:\n",
    "    pickle.dump(vectorizer, file)"
   ]
  },
  {
   "cell_type": "code",
   "execution_count": 22,
   "metadata": {
    "id": "ftsbheWLWOps"
   },
   "outputs": [],
   "source": [
    "with open('label_encoder.pkl', 'wb') as file:\n",
    "    pickle.dump (label_encoder, file)"
   ]
  },
  {
   "cell_type": "code",
   "execution_count": 23,
   "metadata": {
    "colab": {
     "base_uri": "https://localhost:8080/"
    },
    "id": "hUR2lxzzWUrm",
    "outputId": "4b3b69fd-7e7f-4180-c5d4-0334d731ab74"
   },
   "outputs": [
    {
     "name": "stderr",
     "output_type": "stream",
     "text": [
      "WARNING:absl:You are saving your model as an HDF5 file via `model.save()` or `keras.saving.save_model(model)`. This file format is considered legacy. We recommend using instead the native Keras format, e.g. `model.save('my_model.keras')` or `keras.saving.save_model(model, 'my_model.keras')`. \n"
     ]
    }
   ],
   "source": [
    "model.save('trained_model.h5')"
   ]
  },
  {
   "cell_type": "code",
   "execution_count": 24,
   "metadata": {
    "id": "D6LgICEbWZtu"
   },
   "outputs": [],
   "source": [
    "new_sentences =[\n",
    "    \"Her smile was as bright as the sun.\",\n",
    "    \"The world is a stage, and we are merely players.\"]\n",
    "X_new = vectorizer.transform(new_sentences)"
   ]
  },
  {
   "cell_type": "code",
   "execution_count": 25,
   "metadata": {
    "colab": {
     "base_uri": "https://localhost:8080/"
    },
    "id": "nv2sxnmDWoxZ",
    "outputId": "6292f87c-626c-4a7f-daa5-9c73559e01fe"
   },
   "outputs": [
    {
     "name": "stdout",
     "output_type": "stream",
     "text": [
      "\u001b[1m1/1\u001b[0m \u001b[32m━━━━━━━━━━━━━━━━━━━━\u001b[0m\u001b[37m\u001b[0m \u001b[1m0s\u001b[0m 205ms/step\n"
     ]
    }
   ],
   "source": [
    "nn_probabilities = model.predict(X_new)\n",
    "\n",
    "nn_predictions = (nn_probabilities > 0.5).astype(int).flatten()\n",
    "\n",
    "nn_predicted_labels = label_encoder.inverse_transform(nn_predictions)"
   ]
  },
  {
   "cell_type": "code",
   "execution_count": 26,
   "metadata": {
    "colab": {
     "base_uri": "https://localhost:8080/"
    },
    "id": "D2QbtkU2Wz1c",
    "outputId": "145ea4ea-73f7-4d58-a396-d94ca48977de"
   },
   "outputs": [
    {
     "name": "stdout",
     "output_type": "stream",
     "text": [
      "Sentence: Her smile was as bright as the sun.\n",
      "\n",
      "Neural Network Prediction: Simile\n",
      "\n",
      " Probability of being a Simile: 0.9187\n",
      " Probability of being a Metaphor: 0.0813\n",
      "\n",
      "Sentence: The world is a stage, and we are merely players.\n",
      "\n",
      "Neural Network Prediction: Metaphor\n",
      "\n",
      " Probability of being a Simile: 0.1084\n",
      " Probability of being a Metaphor: 0.8916\n",
      "\n"
     ]
    }
   ],
   "source": [
    "for i, sentence in enumerate(new_sentences):\n",
    "   nn_simile_prob = nn_probabilities[i][0]\n",
    "   nn_metaphor_prob = 1 - nn_simile_prob\n",
    "\n",
    "   print(f\"Sentence: {sentence}\")\n",
    "   print()\n",
    "   print(f\"Neural Network Prediction: {nn_predicted_labels[i]}\")\n",
    "   print()\n",
    "   print(f\" Probability of being a Simile: {nn_simile_prob:.4f}\")\n",
    "   print(f\" Probability of being a Metaphor: {nn_metaphor_prob:.4f}\")\n",
    "   print()"
   ]
  }
 ],
 "metadata": {
  "colab": {
   "provenance": []
  },
  "kernelspec": {
   "display_name": "base",
   "language": "python",
   "name": "python3"
  },
  "language_info": {
   "codemirror_mode": {
    "name": "ipython",
    "version": 3
   },
   "file_extension": ".py",
   "mimetype": "text/x-python",
   "name": "python",
   "nbconvert_exporter": "python",
   "pygments_lexer": "ipython3",
   "version": "3.12.4"
  }
 },
 "nbformat": 4,
 "nbformat_minor": 0
}
